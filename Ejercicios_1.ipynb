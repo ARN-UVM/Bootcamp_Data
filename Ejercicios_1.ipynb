{
 "cells": [
  {
   "cell_type": "markdown",
   "id": "4f4f6ee6-8ea3-495b-b89d-84dfda8f8ca6",
   "metadata": {
    "jp-MarkdownHeadingCollapsed": true
   },
   "source": [
    "Ejercicio 1 "
   ]
  },
  {
   "cell_type": "code",
   "execution_count": 5,
   "id": "95fa12fa-da04-4167-b1f0-0702ac3e130a",
   "metadata": {},
   "outputs": [],
   "source": [
    "x1, x2, x3, x4, x5, x6 = 1.1, \"Valeria\", \"1.1\", True, \"True\", -1"
   ]
  },
  {
   "cell_type": "code",
   "execution_count": 13,
   "id": "b2cf13d3-b64c-4bb6-9507-a1ee68a5e354",
   "metadata": {},
   "outputs": [
    {
     "name": "stdout",
     "output_type": "stream",
     "text": [
      "<class 'float'>\n",
      "<class 'str'>\n",
      "<class 'str'>\n",
      "<class 'bool'>\n",
      "<class 'str'>\n",
      "<class 'int'>\n"
     ]
    }
   ],
   "source": [
    "print(type(x1))\n",
    "print(type(x2))\n",
    "print(type(x3))\n",
    "print(type(x4))\n",
    "print(type(x5))\n",
    "print(type(x6))"
   ]
  },
  {
   "cell_type": "markdown",
   "id": "d4d9f920-16ca-45aa-98da-9816934fff53",
   "metadata": {
    "jp-MarkdownHeadingCollapsed": true
   },
   "source": [
    "---"
   ]
  },
  {
   "cell_type": "code",
   "execution_count": 28,
   "id": "e0bf6446-af2a-4c24-90d6-00603663001b",
   "metadata": {},
   "outputs": [
    {
     "name": "stdout",
     "output_type": "stream",
     "text": [
      "0.0\n"
     ]
    }
   ],
   "source": [
    "diferencia = x1 - float(x3)\n",
    "print(diferencia)"
   ]
  },
  {
   "cell_type": "markdown",
   "id": "60d034be-27b1-4c60-ab22-faa3463aaad7",
   "metadata": {
    "jp-MarkdownHeadingCollapsed": true
   },
   "source": [
    "-----"
   ]
  },
  {
   "cell_type": "code",
   "execution_count": 32,
   "id": "c1e70c93-b1fe-41b2-b433-feb72cde56af",
   "metadata": {},
   "outputs": [
    {
     "name": "stdout",
     "output_type": "stream",
     "text": [
      "0.0\n"
     ]
    }
   ],
   "source": [
    "resta = float(x3) - x1\n",
    "print(resta)"
   ]
  },
  {
   "cell_type": "markdown",
   "id": "0e97e07e-c025-49e0-8a11-d66abb165080",
   "metadata": {
    "jp-MarkdownHeadingCollapsed": true
   },
   "source": [
    "-----"
   ]
  },
  {
   "cell_type": "code",
   "execution_count": 36,
   "id": "67a5a9d2-61bc-443b-b48b-76d1b7bec737",
   "metadata": {},
   "outputs": [
    {
     "name": "stdout",
     "output_type": "stream",
     "text": [
      "0\n"
     ]
    }
   ],
   "source": [
    "division = x4 - bool(x5)\n",
    "print(division)"
   ]
  },
  {
   "cell_type": "markdown",
   "id": "a2183e61-a3e1-438a-9585-2475befe61f0",
   "metadata": {
    "jp-MarkdownHeadingCollapsed": true
   },
   "source": [
    "-----"
   ]
  },
  {
   "cell_type": "code",
   "execution_count": 40,
   "id": "2098ff5f-854e-4dd5-af31-fb948c642209",
   "metadata": {},
   "outputs": [
    {
     "name": "stdout",
     "output_type": "stream",
     "text": [
      "0\n"
     ]
    }
   ],
   "source": [
    "resta_2 = bool(x5) - x4\n",
    "print(resta_2)"
   ]
  },
  {
   "cell_type": "markdown",
   "id": "a5d57aa2-3202-4329-9a97-7a31945e4e33",
   "metadata": {
    "jp-MarkdownHeadingCollapsed": true
   },
   "source": [
    "-----"
   ]
  },
  {
   "cell_type": "code",
   "execution_count": 42,
   "id": "331427c9-1ac5-402e-9ed5-418700a924a1",
   "metadata": {},
   "outputs": [
    {
     "name": "stdin",
     "output_type": "stream",
     "text": [
      "Por favor ingrese un numero entero:  10\n",
      "Por favor ingrese un numero entero:  20\n"
     ]
    },
    {
     "name": "stdout",
     "output_type": "stream",
     "text": [
      "10\n",
      "20\n"
     ]
    }
   ],
   "source": [
    "x1 = input(\"Por favor ingrese un numero entero: \")\n",
    "x2 = input(\"Por favor ingrese un numero entero: \")\n",
    "print(x1)\n",
    "print(x2)"
   ]
  },
  {
   "cell_type": "markdown",
   "id": "9ba6228c-4aa0-415f-b50f-00d3779c16a9",
   "metadata": {
    "jp-MarkdownHeadingCollapsed": true
   },
   "source": [
    "-----"
   ]
  },
  {
   "cell_type": "code",
   "execution_count": 46,
   "id": "04d6d879-87e5-42c5-8ee7-0fb1841b468d",
   "metadata": {},
   "outputs": [
    {
     "name": "stdout",
     "output_type": "stream",
     "text": [
      "<class 'str'>\n",
      "<class 'str'>\n"
     ]
    }
   ],
   "source": [
    "print(type(x1))\n",
    "print(type(x2))"
   ]
  },
  {
   "cell_type": "code",
   "execution_count": 48,
   "id": "1786d3e5-4f81-451e-9450-acbf3ee955e1",
   "metadata": {},
   "outputs": [
    {
     "data": {
      "text/plain": [
       "False"
      ]
     },
     "execution_count": 48,
     "metadata": {},
     "output_type": "execute_result"
    }
   ],
   "source": [
    "x1 == x2"
   ]
  },
  {
   "cell_type": "code",
   "execution_count": 54,
   "id": "c0d5a1b7-b47f-47cc-b1f7-c208d0677fb2",
   "metadata": {},
   "outputs": [
    {
     "data": {
      "text/plain": [
       "False"
      ]
     },
     "execution_count": 54,
     "metadata": {},
     "output_type": "execute_result"
    }
   ],
   "source": [
    "x1 > x2"
   ]
  },
  {
   "cell_type": "code",
   "execution_count": 56,
   "id": "b7ff2874-450b-4393-b157-28a44e5be268",
   "metadata": {},
   "outputs": [
    {
     "data": {
      "text/plain": [
       "True"
      ]
     },
     "execution_count": 56,
     "metadata": {},
     "output_type": "execute_result"
    }
   ],
   "source": [
    "x2 > x1"
   ]
  },
  {
   "cell_type": "code",
   "execution_count": 58,
   "id": "5bfa25d0-37d9-43ef-837a-52631911f309",
   "metadata": {},
   "outputs": [
    {
     "data": {
      "text/plain": [
       "True"
      ]
     },
     "execution_count": 58,
     "metadata": {},
     "output_type": "execute_result"
    }
   ],
   "source": [
    "x1 != x2"
   ]
  },
  {
   "cell_type": "code",
   "execution_count": 75,
   "id": "caa96c12-3a2b-4985-8c47-98f18068db53",
   "metadata": {},
   "outputs": [
    {
     "name": "stdin",
     "output_type": "stream",
     "text": [
      "Por favor ingrese un numero entero:  10\n",
      "Por favor ingrese un numero entero:  20\n"
     ]
    },
    {
     "name": "stdout",
     "output_type": "stream",
     "text": [
      "La resta del numero menor del mayor es 10\n"
     ]
    }
   ],
   "source": [
    "x1 = int(input(\"Por favor ingrese un numero entero: \"))\n",
    "x2 = int(input(\"Por favor ingrese un numero entero: \"))\n",
    "if x1 > x2: \n",
    "     x3 = x1 - x2\n",
    "else:\n",
    "    x3 = x2 - x1\n",
    "print(f\"La resta del numero menor del mayor es {x3}\")"
   ]
  },
  {
   "cell_type": "markdown",
   "id": "2d62282c-ad21-4ef8-91f3-614c5aa7dc71",
   "metadata": {
    "jp-MarkdownHeadingCollapsed": true
   },
   "source": [
    "-----"
   ]
  },
  {
   "cell_type": "code",
   "execution_count": 99,
   "id": "daee5ce9-77df-4111-939a-b5cca5340f8c",
   "metadata": {},
   "outputs": [
    {
     "name": "stdin",
     "output_type": "stream",
     "text": [
      "Por favor ingrese un numero entero:  15\n",
      "Por favor ingrese un numero entero:  10\n"
     ]
    },
    {
     "name": "stdout",
     "output_type": "stream",
     "text": [
      "15\n"
     ]
    }
   ],
   "source": [
    "x1 = int(input(\"Por favor ingrese un numero entero: \"))\n",
    "x2 = int(input(\"Por favor ingrese un numero entero: \"))\n",
    "if x1 < x2: \n",
    "     x3 = x1 + (x2 - x1)\n",
    "else: \n",
    "    x3 = x2 + (x1 - x2)\n",
    "\n",
    "print(x3)"
   ]
  },
  {
   "cell_type": "markdown",
   "id": "552cdb11-af32-4664-aadf-39587a976d61",
   "metadata": {
    "jp-MarkdownHeadingCollapsed": true
   },
   "source": [
    "-----"
   ]
  },
  {
   "cell_type": "code",
   "execution_count": null,
   "id": "4ac39985-32af-4708-bf03-202cca7bfe4d",
   "metadata": {},
   "outputs": [],
   "source": []
  }
 ],
 "metadata": {
  "kernelspec": {
   "display_name": "Python 3 (ipykernel)",
   "language": "python",
   "name": "python3"
  },
  "language_info": {
   "codemirror_mode": {
    "name": "ipython",
    "version": 3
   },
   "file_extension": ".py",
   "mimetype": "text/x-python",
   "name": "python",
   "nbconvert_exporter": "python",
   "pygments_lexer": "ipython3",
   "version": "3.12.7"
  }
 },
 "nbformat": 4,
 "nbformat_minor": 5
}
