{
 "cells": [
  {
   "cell_type": "code",
   "execution_count": 3,
   "id": "41cd0ee0-028e-4318-b05a-e99648cbd377",
   "metadata": {},
   "outputs": [
    {
     "name": "stdin",
     "output_type": "stream",
     "text": [
      "Ingresa un numero entero:  10\n"
     ]
    },
    {
     "name": "stdout",
     "output_type": "stream",
     "text": [
      "El numero es par\n"
     ]
    }
   ],
   "source": [
    "numero_par_impar = int(input(\"Ingresa un numero entero: \"))\n",
    "if numero_par_impar % 2 == 0:\n",
    "    print(\"El numero es par\")\n",
    "else:\n",
    "    print(\"El numero es impar\")"
   ]
  },
  {
   "cell_type": "markdown",
   "id": "d873b582-40cb-46d1-88db-5f663ad35a96",
   "metadata": {},
   "source": [
    "---------------------------------------------------------"
   ]
  },
  {
   "cell_type": "code",
   "execution_count": 8,
   "id": "4d933465-191e-4735-ab4b-e1dab6ae8241",
   "metadata": {},
   "outputs": [
    {
     "name": "stdin",
     "output_type": "stream",
     "text": [
      "Ingresa un numero entero:  -10\n"
     ]
    },
    {
     "name": "stdout",
     "output_type": "stream",
     "text": [
      "El numero es negativo\n"
     ]
    }
   ],
   "source": [
    "num_par_impar = int(input(\"Ingresa un numero entero: \"))\n",
    "if num_par_impar == 0:\n",
    "    print(\"el numero es cero\")\n",
    "elif num_par_impar > 0:\n",
    "    print(\"El numero es positivo\")\n",
    "else: \n",
    "    print(\"El numero es negativo\")"
   ]
  },
  {
   "cell_type": "markdown",
   "id": "0223ee81-4a17-4468-b2c8-b22eb26ce03e",
   "metadata": {},
   "source": [
    "---------------------------------------------------------"
   ]
  },
  {
   "cell_type": "code",
   "execution_count": 10,
   "id": "caeebeb7-136c-4ae5-923d-6e7d312838af",
   "metadata": {},
   "outputs": [
    {
     "name": "stdin",
     "output_type": "stream",
     "text": [
      "Ingresa tu calificacion:  60\n"
     ]
    },
    {
     "name": "stdout",
     "output_type": "stream",
     "text": [
      "C\n"
     ]
    }
   ],
   "source": [
    "calificacion = int(input(\"Ingresa tu calificacion: \"))\n",
    "if calificacion >= 90:\n",
    "  print(\"A\")\n",
    "elif calificacion >=75 and calificacion <90:\n",
    "  print(\"B\")\n",
    "elif calificacion >=60 and calificacion <75:\n",
    "  print(\"C\")\n",
    "elif calificacion >= 45 and calificacion <60:\n",
    "  print(\"D\")\n",
    "elif calificacion >= 25 and calificacion <45:\n",
    "  print(\"E\")\n",
    "elif calificacion >= 0 and calificacion <25:\n",
    "  print(\"F\")"
   ]
  },
  {
   "cell_type": "markdown",
   "id": "647a5b87-3c1f-48aa-9cee-5fb61fcf2749",
   "metadata": {},
   "source": [
    "---------------------------------------------------------"
   ]
  },
  {
   "cell_type": "code",
   "execution_count": 26,
   "id": "12224a02-0246-453b-99ff-50ddb08cbacf",
   "metadata": {},
   "outputs": [
    {
     "name": "stdout",
     "output_type": "stream",
     "text": [
      "18\n"
     ]
    }
   ],
   "source": [
    "primero = [1,2,34,5,3,12,9,8,67,89,98,90,39,21,45,46,23,13]\n",
    "numero_elementos = len(primero)\n",
    "print(numero_elementos)"
   ]
  },
  {
   "cell_type": "code",
   "execution_count": 28,
   "id": "9e82ebd5-8ecc-41d6-833c-5779a1b4c17c",
   "metadata": {},
   "outputs": [
    {
     "name": "stdout",
     "output_type": "stream",
     "text": [
      "1\n"
     ]
    }
   ],
   "source": [
    "primer_elemento = primero[0]\n",
    "print(primer_elemento)"
   ]
  },
  {
   "cell_type": "code",
   "execution_count": 30,
   "id": "a7b36c90-7a93-4957-9c8c-c4fbc4d7dcb3",
   "metadata": {},
   "outputs": [
    {
     "name": "stdout",
     "output_type": "stream",
     "text": [
      "13\n"
     ]
    }
   ],
   "source": [
    "ultimo_elemento = primero[-1]\n",
    "print(ultimo_elemento)"
   ]
  },
  {
   "cell_type": "code",
   "execution_count": 34,
   "id": "8d36d06f-fc07-4725-a4f3-e035e3c7675f",
   "metadata": {},
   "outputs": [
    {
     "name": "stdout",
     "output_type": "stream",
     "text": [
      "11\n"
     ]
    }
   ],
   "source": [
    "indice = primero.index(90)\n",
    "print(indice)"
   ]
  },
  {
   "cell_type": "code",
   "execution_count": 46,
   "id": "3f2865ef-5080-4712-988a-df5ab8b713ee",
   "metadata": {},
   "outputs": [
    {
     "name": "stdout",
     "output_type": "stream",
     "text": [
      "[1, 2, 34, 5, 3, 12, 9, 8]\n"
     ]
    }
   ],
   "source": [
    "ocho_primeros = primero[0:8]\n",
    "print(ocho_primeros)"
   ]
  },
  {
   "cell_type": "markdown",
   "id": "f2688a52-415c-4fde-8b06-d04c4029a382",
   "metadata": {},
   "source": [
    "---------------------------------------------------------"
   ]
  },
  {
   "cell_type": "code",
   "execution_count": 58,
   "id": "2cdd0307-e98c-4044-80e2-05c219e904da",
   "metadata": {},
   "outputs": [],
   "source": [
    "primero.append(100)\n",
    "primero.append(110)"
   ]
  },
  {
   "cell_type": "raw",
   "id": "69503e45-afdb-4ac1-bbed-4d77f0252ac0",
   "metadata": {},
   "source": [
    "Diccionarios"
   ]
  },
  {
   "cell_type": "code",
   "execution_count": 62,
   "id": "c0e9eae4-d557-42b6-bd75-375541ce5986",
   "metadata": {},
   "outputs": [],
   "source": [
    "word_freq = { \"love\": 25, \"conversation\" : 1, \"every\": 6, \"we're\": 1, \"plate\": 1, \"sour\":1, \"jukebox\": 1, \"now\": 11, \"taxi\": 1, \"fast\": 1, \"bag\": 1, \"man\": 1, \"push\": 3, \"baby\": 14, \"going\": 1, \"you\": 16, \"dont\": 2, \"one\":1 , \"mind\": 2, \"backseat\": 1, \"friends\": 1, \"then\": 3, \"know\": 2}"
   ]
  },
  {
   "cell_type": "code",
   "execution_count": 64,
   "id": "e08d1d04-ed23-4c09-a7f8-3f1e5ea60ccd",
   "metadata": {},
   "outputs": [
    {
     "data": {
      "text/plain": [
       "23"
      ]
     },
     "execution_count": 64,
     "metadata": {},
     "output_type": "execute_result"
    }
   ],
   "source": [
    "len(word_freq)"
   ]
  },
  {
   "cell_type": "code",
   "execution_count": 70,
   "id": "cda48db7-ee60-4c8b-bf5b-7a91b61ffda3",
   "metadata": {},
   "outputs": [
    {
     "name": "stdout",
     "output_type": "stream",
     "text": [
      "dict_keys(['love', 'conversation', 'every', \"we're\", 'plate', 'sour', 'jukebox', 'now', 'taxi', 'fast', 'bag', 'man', 'push', 'baby', 'going', 'you', 'dont', 'one', 'mind', 'backseat', 'friends', 'then', 'know'])\n"
     ]
    }
   ],
   "source": [
    "keys_word = word_freq.keys()\n",
    "print(keys_word)"
   ]
  },
  {
   "cell_type": "code",
   "execution_count": 76,
   "id": "dc161ebc-fa79-45eb-a3ba-5f888726dddb",
   "metadata": {},
   "outputs": [
    {
     "name": "stdout",
     "output_type": "stream",
     "text": [
      "La frecuencia de friends es 1\n",
      "La frecuencia de taxi es 1\n",
      "La frecuencia de jukebox es 1\n"
     ]
    }
   ],
   "source": [
    "palabras_repetidas = [\"friends\", \"taxi\", \"jukebox\"]\n",
    "for word in palabras_repetidas:\n",
    "    freq = word_freq.get(word)\n",
    "    print(f\"La frecuencia de {word} es {freq}\")"
   ]
  },
  {
   "cell_type": "code",
   "execution_count": 80,
   "id": "e3b903ec-54fc-4734-b09f-a1d7c4ccff40",
   "metadata": {},
   "outputs": [],
   "source": [
    "if \"begin\" in word_freq:\n",
    "    print(\"Se encuentra\")"
   ]
  },
  {
   "cell_type": "code",
   "execution_count": 132,
   "id": "d6a668b5-c984-4b32-93ab-3d39e9c59d3b",
   "metadata": {},
   "outputs": [],
   "source": [
    "word_freq.update({\"begin\": 1, \"start\": 2, \"over\": 1, \"body\": 17, \"body\": 17})"
   ]
  },
  {
   "cell_type": "code",
   "execution_count": 86,
   "id": "080ad35f-467f-430f-879b-9fe535926b7e",
   "metadata": {},
   "outputs": [],
   "source": [
    "word = list(word_freq.keys())"
   ]
  },
  {
   "cell_type": "code",
   "execution_count": 128,
   "id": "367755a9-5e70-4f1b-b1cb-92b83ae5af35",
   "metadata": {},
   "outputs": [
    {
     "name": "stdout",
     "output_type": "stream",
     "text": [
      "love\n"
     ]
    }
   ],
   "source": [
    "first_key = next(iter(word_freq))\n",
    "first_value = word_freq[first_key]\n",
    "print(first_key)"
   ]
  },
  {
   "cell_type": "code",
   "execution_count": 120,
   "id": "8260b48e-aed0-4347-a751-e11b7451d613",
   "metadata": {},
   "outputs": [
    {
     "name": "stdout",
     "output_type": "stream",
     "text": [
      "body\n"
     ]
    }
   ],
   "source": [
    "last_key = list(word_freq.keys())[-1]\n",
    "last_value = word_freq[last_key]\n",
    "print(last_key)"
   ]
  },
  {
   "cell_type": "markdown",
   "id": "cafd6216-0055-4932-8280-0e5ff70a8d7c",
   "metadata": {},
   "source": [
    "El diccionario si permite tener dos pares clace-valor con la misma clave \n",
    "El diccionario puede tener dos pares clave-valor con el mismo valor pero clave diferente "
   ]
  },
  {
   "cell_type": "code",
   "execution_count": 134,
   "id": "53299b2c-0f14-4053-b62c-079720ece6fc",
   "metadata": {},
   "outputs": [
    {
     "name": "stdout",
     "output_type": "stream",
     "text": [
      "10\n",
      "11\n",
      "12\n",
      "13\n",
      "14\n",
      "15\n",
      "16\n",
      "17\n",
      "18\n",
      "19\n",
      "20\n",
      "21\n",
      "22\n",
      "23\n",
      "24\n",
      "25\n",
      "26\n",
      "27\n",
      "28\n",
      "29\n"
     ]
    }
   ],
   "source": [
    "for numero in range(10,30):\n",
    "  print(numero)"
   ]
  },
  {
   "cell_type": "code",
   "execution_count": 136,
   "id": "da3847a5-68a0-467b-9d9a-0194b0487382",
   "metadata": {},
   "outputs": [
    {
     "name": "stdout",
     "output_type": "stream",
     "text": [
      "10\n",
      "13\n",
      "16\n",
      "19\n",
      "22\n",
      "25\n",
      "28\n"
     ]
    }
   ],
   "source": [
    "for numero in range(10,30,3):\n",
    "  print(numero)"
   ]
  },
  {
   "cell_type": "code",
   "execution_count": 138,
   "id": "6b8c75c3-8433-4647-bcaf-5d0437c78f29",
   "metadata": {},
   "outputs": [
    {
     "name": "stdout",
     "output_type": "stream",
     "text": [
      "10\n",
      "15\n",
      "20\n",
      "25\n"
     ]
    }
   ],
   "source": [
    "for numero in range(10,30):\n",
    "  if numero % 5 == 0:\n",
    "    print(numero)"
   ]
  },
  {
   "cell_type": "code",
   "execution_count": 140,
   "id": "dcd74988-25c4-4be0-a348-ea2b30ccc494",
   "metadata": {},
   "outputs": [
    {
     "name": "stdout",
     "output_type": "stream",
     "text": [
      "**\n",
      "****\n",
      "******\n"
     ]
    }
   ],
   "source": [
    "aumento =\"*\"\n",
    "comienzo = 2\n",
    "for i in range(3):\n",
    "  print(aumento * comienzo)\n",
    "  comienzo += 2"
   ]
  },
  {
   "cell_type": "code",
   "execution_count": 142,
   "id": "67eb5af4-d6c0-455e-a630-f5966590d8a0",
   "metadata": {},
   "outputs": [
    {
     "name": "stdout",
     "output_type": "stream",
     "text": [
      "    *\n",
      "   ***\n",
      "  *****\n"
     ]
    }
   ],
   "source": [
    "aumento = \"*\"\n",
    "comienzo = 1\n",
    "espacios = 4\n",
    "for i in range(3):\n",
    "    print(\" \" * espacios + aumento * comienzo)\n",
    "    comienzo += 2\n",
    "    espacios -= 1"
   ]
  },
  {
   "cell_type": "code",
   "execution_count": 146,
   "id": "11aab3d1-d413-47f0-82e8-7bcfbae0a11d",
   "metadata": {},
   "outputs": [
    {
     "name": "stdin",
     "output_type": "stream",
     "text": [
      "Favor de poner un numero entero:  10\n"
     ]
    }
   ],
   "source": [
    "numero = int(input(\"Favor de poner un numero entero: \"))\n",
    "import math\n",
    "math.factoria"
   ]
  },
  {
   "cell_type": "code",
   "execution_count": null,
   "id": "f46a9f43-0423-4fd2-8548-3c7eed5fb74e",
   "metadata": {},
   "outputs": [],
   "source": []
  }
 ],
 "metadata": {
  "kernelspec": {
   "display_name": "Python 3 (ipykernel)",
   "language": "python",
   "name": "python3"
  },
  "language_info": {
   "codemirror_mode": {
    "name": "ipython",
    "version": 3
   },
   "file_extension": ".py",
   "mimetype": "text/x-python",
   "name": "python",
   "nbconvert_exporter": "python",
   "pygments_lexer": "ipython3",
   "version": "3.12.7"
  }
 },
 "nbformat": 4,
 "nbformat_minor": 5
}
