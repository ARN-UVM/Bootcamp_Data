{
 "cells": [
  {
   "cell_type": "raw",
   "id": "7c420a9d-c3dc-4b12-b5a4-9985f9425af8",
   "metadata": {},
   "source": [
    "Gestor de inventario de tienda"
   ]
  },
  {
   "cell_type": "code",
   "execution_count": 7,
   "id": "33b4a6d9-d6ad-4536-b4cf-7dfd9e307fa6",
   "metadata": {},
   "outputs": [
    {
     "name": "stdout",
     "output_type": "stream",
     "text": [
      "Inventario de tienda\n",
      "1. Añadir producto\n",
      "2. Buscar producto\n",
      "3. Actualizar producto\n",
      "4. Eliminar producto\n",
      "5. Mostrar productos\n"
     ]
    },
    {
     "name": "stdin",
     "output_type": "stream",
     "text": [
      "Elije una opción del menu :  1\n",
      "Escribe el nombre del producto nuevo manzanas\n",
      "Escribe el costo del producto nuevo 23\n"
     ]
    }
   ],
   "source": [
    "inventario = {\"Manzana\": 0.5, \"leche\" : 1.2,}\n",
    "print(\"Inventario de tienda\")\n",
    "print(\"1. Añadir producto\")\n",
    "print(\"2. Buscar producto\")\n",
    "print(\"3. Actualizar producto\")\n",
    "print(\"4. Eliminar producto\")\n",
    "print(\"5. Mostrar productos\")\n",
    "elección = input(\"Elije una opción del menu : \")\n",
    "if elección == \"1\":\n",
    "    nombre = input (\"Escribe el nombre del producto nuevo\")\n",
    "    costo = input (\"Escribe el costo del producto nuevo\")\n",
    "    agenda[nombre] = costo\n",
    "elif elección == \"2\":\n",
    "    nombre = input(\"nombre del producto: \")\n",
    "    if nombre in inventario: print(f\" {nombre} cuesta {inventario[costo]}.\")\n",
    "    else: print(\"Ese producto no existe\")\n",
    "elif elección == \"3\":\n",
    "    nombre = input(\"nombre del producto: \")\n",
    "    if nombre in inventario:\n",
    "        nuevo_producto = input(\"Ingrese el nuevo producto: \")\n",
    "        agenda[nombre] = nuevo_nombre\n",
    "        print(f\" El nuevo producto es {nombre} es {inventario[nombre]}.\")\n",
    "elif elección == \"4\":\n",
    "    nombre = input(\"nombre del producto: \")\n",
    "    if nombre in inventario:\n",
    "        inventario.pop(nombre)\n",
    "        print( \"El producto fue eliminado\")\n",
    "elif elección == \"5\":\n",
    "    print(inventario)\n",
    "else: \n",
    "    print(\"esa opción no es válida\")"
   ]
  },
  {
   "cell_type": "code",
   "execution_count": 9,
   "id": "867257a4-12c2-4496-89d1-badda0caab9a",
   "metadata": {},
   "outputs": [
    {
     "name": "stdout",
     "output_type": "stream",
     "text": [
      "Inventario de tienda\n",
      "1. Añadir producto\n",
      "2. Buscar producto\n",
      "3. Actualizar producto\n",
      "4. Eliminar producto\n",
      "5. Mostrar productos\n"
     ]
    },
    {
     "name": "stdin",
     "output_type": "stream",
     "text": [
      "Elije una opción del menú:  1\n",
      "Escribe el nombre del producto nuevo:  Avena\n",
      "Escribe el precio del producto nuevo:  1.43\n",
      "Escribe la cantidad del producto nuevo:  4\n"
     ]
    },
    {
     "name": "stdout",
     "output_type": "stream",
     "text": [
      "Producto Avena añadido al inventario.\n"
     ]
    }
   ],
   "source": [
    "inventario = { \"Manzana\": {\"precio\": 0.5, \"cantidad\": 10}, \"Leche\": {\"precio\": 1.2, \"cantidad\": 5}}\n",
    "print(\"Inventario de tienda\")\n",
    "print(\"1. Añadir producto\")\n",
    "print(\"2. Buscar producto\")\n",
    "print(\"3. Actualizar producto\")\n",
    "print(\"4. Eliminar producto\")\n",
    "print(\"5. Mostrar productos\")\n",
    "elección = input(\"Elije una opción del menú: \")\n",
    "\n",
    "if elección == \"1\":\n",
    "    nombre = input(\"Escribe el nombre del producto nuevo: \")\n",
    "    precio = float(input(\"Escribe el precio del producto nuevo: \"))\n",
    "    cantidad = int(input(\"Escribe la cantidad del producto nuevo: \"))\n",
    "    inventario[nombre] = {\"precio\": precio, \"cantidad\": cantidad}\n",
    "    print(f\"Producto {nombre} añadido al inventario.\")\n",
    "elif elección == \"2\":\n",
    "    nombre = input(\"Nombre del producto: \")\n",
    "    if nombre in inventario:\n",
    "        print(f\"{nombre} cuesta {inventario[nombre]['precio']} y hay {inventario[nombre]['cantidad']} disponibles.\")\n",
    "    else:\n",
    "        print(\"Ese producto no existe.\")\n",
    "elif elección == \"3\":\n",
    "    nombre = input(\"Nombre del producto: \")\n",
    "    if nombre in inventario:\n",
    "        nuevo_precio = float(input(\"Ingrese el nuevo precio: \"))\n",
    "        nueva_cantidad = int(input(\"Ingrese la nueva cantidad: \"))\n",
    "        inventario[nombre][\"precio\"] = nuevo_precio\n",
    "        inventario[nombre][\"cantidad\"] = nueva_cantidad\n",
    "        print(f\"El producto {nombre} ha sido actualizado.\")\n",
    "    else:\n",
    "        print(\"Ese producto no existe.\")\n",
    "elif elección == \"4\":\n",
    "    nombre = input(\"Nombre del producto: \")\n",
    "    if nombre in inventario:\n",
    "        inventario.pop(nombre)\n",
    "        print(\"El producto fue eliminado.\")\n",
    "    else:\n",
    "        print(\"Ese producto no existe.\")\n",
    "elif elección == \"5\":\n",
    "    print(\"Productos en el inventario:\")\n",
    "    for producto, detalles in inventario.items():\n",
    "        print(f\"{producto}: Precio: {detalles['precio']}, Cantidad: {detalles['cantidad']}\")\n",
    "else:\n",
    "    print(\"Esa opción no es válida.\")"
   ]
  },
  {
   "cell_type": "code",
   "execution_count": null,
   "id": "d4767467-e540-4cb4-9566-3d58fd35e6a0",
   "metadata": {},
   "outputs": [],
   "source": []
  }
 ],
 "metadata": {
  "kernelspec": {
   "display_name": "Python 3 (ipykernel)",
   "language": "python",
   "name": "python3"
  },
  "language_info": {
   "codemirror_mode": {
    "name": "ipython",
    "version": 3
   },
   "file_extension": ".py",
   "mimetype": "text/x-python",
   "name": "python",
   "nbconvert_exporter": "python",
   "pygments_lexer": "ipython3",
   "version": "3.12.7"
  }
 },
 "nbformat": 4,
 "nbformat_minor": 5
}
