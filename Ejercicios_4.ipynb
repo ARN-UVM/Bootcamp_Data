{
 "cells": [
  {
   "cell_type": "code",
   "execution_count": 1,
   "id": "0515b8cf-3cb5-4a60-a8da-1a81cae8b916",
   "metadata": {},
   "outputs": [
    {
     "name": "stdout",
     "output_type": "stream",
     "text": [
      "[0, 2, 4, 6, 8, 10, 12, 14, 16, 18, 20]\n"
     ]
    }
   ],
   "source": [
    "lista_10_pares = list(range(0,21,2))\n",
    "print(lista_10_pares)"
   ]
  },
  {
   "cell_type": "code",
   "execution_count": 5,
   "id": "6ba9906b-a775-4879-bf1d-d694d144998f",
   "metadata": {},
   "outputs": [],
   "source": [
    "def elevar_cuadrado():\n",
    "  lista_cuadrados = []\n",
    "  for i in lista_10_pares:\n",
    "    lista_cuadrados.append(i**2)\n",
    "  return lista_cuadrados"
   ]
  },
  {
   "cell_type": "code",
   "execution_count": 7,
   "id": "de09db89-19d4-461b-b689-ababf28f4e58",
   "metadata": {},
   "outputs": [
    {
     "name": "stdout",
     "output_type": "stream",
     "text": [
      "[0, 4, 16, 36, 64, 100, 144, 196, 256, 324, 400]\n"
     ]
    }
   ],
   "source": [
    "resultado = elevar_cuadrado()\n",
    "print(resultado)"
   ]
  },
  {
   "cell_type": "code",
   "execution_count": 9,
   "id": "ff23890d-ee8e-4259-8bb2-d58c7396bb3e",
   "metadata": {},
   "outputs": [
    {
     "name": "stdout",
     "output_type": "stream",
     "text": [
      "[0, 2, 4, 6, 8, 10, 12, 14, 16, 18, 20]\n",
      "[0, 4, 16, 36, 64, 100, 144, 196, 256, 324, 400]\n"
     ]
    }
   ],
   "source": [
    "lista2_10_pares = list(range(0, 21, 2))\n",
    "print(lista2_10_pares)\n",
    "def elevar_cuadrado(x):\n",
    "    return x ** 2\n",
    "lista_cuadrados = list(map(elevar_cuadrado, lista2_10_pares))\n",
    "print(lista_cuadrados)"
   ]
  },
  {
   "cell_type": "code",
   "execution_count": 11,
   "id": "1fb189be-6740-4dec-912d-894fccc11212",
   "metadata": {},
   "outputs": [
    {
     "name": "stdout",
     "output_type": "stream",
     "text": [
      "Lista original: [1, 2, 3, 4, 5, 6, 7, 8, 9, 10]\n",
      "Lista filtrada (valores mayores a 5): [6, 7, 8, 9, 10]\n"
     ]
    }
   ],
   "source": [
    "lista_original = [1, 2, 3, 4, 5, 6, 7, 8, 9, 10]\n",
    "print(\"Lista original:\", lista_original)\n",
    "def mayor_a_5(x):\n",
    "    return x > 5\n",
    "lista_filtrada = list(filter(mayor_a_5, lista_original))\n",
    "print(\"Lista filtrada (valores mayores a 5):\", lista_filtrada)"
   ]
  },
  {
   "cell_type": "code",
   "execution_count": 17,
   "id": "bc37652e-7bd5-4a21-9939-5ae26c03d1ad",
   "metadata": {},
   "outputs": [
    {
     "data": {
      "text/plain": [
       "'Hola estoy aprendiendo Phyton'"
      ]
     },
     "execution_count": 17,
     "metadata": {},
     "output_type": "execute_result"
    }
   ],
   "source": [
    "frase = \"Hola estoy aprendiendo Phyton  \"\n",
    "frase.rstrip(\" \")"
   ]
  },
  {
   "cell_type": "code",
   "execution_count": 21,
   "id": "36dd29fd-8e51-4340-8d0e-42afd5f9dd56",
   "metadata": {},
   "outputs": [
    {
     "data": {
      "text/plain": [
       "'Hol0 estoy 0prendiendo Phyton  '"
      ]
     },
     "execution_count": 21,
     "metadata": {},
     "output_type": "execute_result"
    }
   ],
   "source": [
    "frase.replace(\"a\",\"0\")"
   ]
  },
  {
   "cell_type": "code",
   "execution_count": 23,
   "id": "c21db42a-3e47-4f4d-bda1-c2ef4772be1f",
   "metadata": {},
   "outputs": [
    {
     "data": {
      "text/plain": [
       "'HOLA ESTOY APRENDIENDO PHYTON  '"
      ]
     },
     "execution_count": 23,
     "metadata": {},
     "output_type": "execute_result"
    }
   ],
   "source": [
    "frase.upper()"
   ]
  },
  {
   "cell_type": "code",
   "execution_count": 25,
   "id": "919dcd49-feaa-4ac5-a1b0-a7bc23b43d63",
   "metadata": {},
   "outputs": [
    {
     "data": {
      "text/plain": [
       "'hola estoy aprendiendo phyton  '"
      ]
     },
     "execution_count": 25,
     "metadata": {},
     "output_type": "execute_result"
    }
   ],
   "source": [
    "frase.lower()"
   ]
  },
  {
   "cell_type": "code",
   "execution_count": 29,
   "id": "8356f0f2-c953-4981-8c99-921a8a823b09",
   "metadata": {},
   "outputs": [
    {
     "data": {
      "text/plain": [
       "-1"
      ]
     },
     "execution_count": 29,
     "metadata": {},
     "output_type": "execute_result"
    }
   ],
   "source": [
    "frase.find(\"Estoy\")"
   ]
  },
  {
   "cell_type": "code",
   "execution_count": null,
   "id": "30a0d150-fb4a-4e18-a450-256a58195b4e",
   "metadata": {},
   "outputs": [],
   "source": []
  }
 ],
 "metadata": {
  "kernelspec": {
   "display_name": "Python 3 (ipykernel)",
   "language": "python",
   "name": "python3"
  },
  "language_info": {
   "codemirror_mode": {
    "name": "ipython",
    "version": 3
   },
   "file_extension": ".py",
   "mimetype": "text/x-python",
   "name": "python",
   "nbconvert_exporter": "python",
   "pygments_lexer": "ipython3",
   "version": "3.12.7"
  }
 },
 "nbformat": 4,
 "nbformat_minor": 5
}
